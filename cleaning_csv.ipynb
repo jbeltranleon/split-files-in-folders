{
 "cells": [
  {
   "cell_type": "code",
   "execution_count": 1,
   "metadata": {},
   "outputs": [],
   "source": [
    "import numpy as np\n",
    "import pandas as pd              "
   ]
  },
  {
   "cell_type": "code",
   "execution_count": 2,
   "metadata": {},
   "outputs": [],
   "source": [
    "images = pd.read_csv('../Data_Entry_2017.csv',encoding='utf-8')"
   ]
  },
  {
   "cell_type": "code",
   "execution_count": 3,
   "metadata": {},
   "outputs": [
    {
     "data": {
      "text/html": [
       "<div>\n",
       "<style scoped>\n",
       "    .dataframe tbody tr th:only-of-type {\n",
       "        vertical-align: middle;\n",
       "    }\n",
       "\n",
       "    .dataframe tbody tr th {\n",
       "        vertical-align: top;\n",
       "    }\n",
       "\n",
       "    .dataframe thead th {\n",
       "        text-align: right;\n",
       "    }\n",
       "</style>\n",
       "<table border=\"1\" class=\"dataframe\">\n",
       "  <thead>\n",
       "    <tr style=\"text-align: right;\">\n",
       "      <th></th>\n",
       "      <th>Image Index</th>\n",
       "      <th>Finding Labels</th>\n",
       "      <th>Follow-up #</th>\n",
       "      <th>Patient ID</th>\n",
       "      <th>Patient Age</th>\n",
       "      <th>Patient Gender</th>\n",
       "      <th>View Position</th>\n",
       "      <th>OriginalImage[Width</th>\n",
       "      <th>Height]</th>\n",
       "      <th>OriginalImagePixelSpacing[x</th>\n",
       "      <th>y]</th>\n",
       "      <th>Unnamed: 11</th>\n",
       "    </tr>\n",
       "  </thead>\n",
       "  <tbody>\n",
       "    <tr>\n",
       "      <th>0</th>\n",
       "      <td>00000001_000.png</td>\n",
       "      <td>Cardiomegaly</td>\n",
       "      <td>0</td>\n",
       "      <td>1</td>\n",
       "      <td>58</td>\n",
       "      <td>M</td>\n",
       "      <td>PA</td>\n",
       "      <td>2682</td>\n",
       "      <td>2749</td>\n",
       "      <td>0.143</td>\n",
       "      <td>0.143</td>\n",
       "      <td>NaN</td>\n",
       "    </tr>\n",
       "    <tr>\n",
       "      <th>1</th>\n",
       "      <td>00000001_001.png</td>\n",
       "      <td>Cardiomegaly|Emphysema</td>\n",
       "      <td>1</td>\n",
       "      <td>1</td>\n",
       "      <td>58</td>\n",
       "      <td>M</td>\n",
       "      <td>PA</td>\n",
       "      <td>2894</td>\n",
       "      <td>2729</td>\n",
       "      <td>0.143</td>\n",
       "      <td>0.143</td>\n",
       "      <td>NaN</td>\n",
       "    </tr>\n",
       "    <tr>\n",
       "      <th>2</th>\n",
       "      <td>00000001_002.png</td>\n",
       "      <td>Cardiomegaly|Effusion</td>\n",
       "      <td>2</td>\n",
       "      <td>1</td>\n",
       "      <td>58</td>\n",
       "      <td>M</td>\n",
       "      <td>PA</td>\n",
       "      <td>2500</td>\n",
       "      <td>2048</td>\n",
       "      <td>0.168</td>\n",
       "      <td>0.168</td>\n",
       "      <td>NaN</td>\n",
       "    </tr>\n",
       "    <tr>\n",
       "      <th>3</th>\n",
       "      <td>00000002_000.png</td>\n",
       "      <td>No Finding</td>\n",
       "      <td>0</td>\n",
       "      <td>2</td>\n",
       "      <td>81</td>\n",
       "      <td>M</td>\n",
       "      <td>PA</td>\n",
       "      <td>2500</td>\n",
       "      <td>2048</td>\n",
       "      <td>0.171</td>\n",
       "      <td>0.171</td>\n",
       "      <td>NaN</td>\n",
       "    </tr>\n",
       "    <tr>\n",
       "      <th>4</th>\n",
       "      <td>00000003_000.png</td>\n",
       "      <td>Hernia</td>\n",
       "      <td>0</td>\n",
       "      <td>3</td>\n",
       "      <td>81</td>\n",
       "      <td>F</td>\n",
       "      <td>PA</td>\n",
       "      <td>2582</td>\n",
       "      <td>2991</td>\n",
       "      <td>0.143</td>\n",
       "      <td>0.143</td>\n",
       "      <td>NaN</td>\n",
       "    </tr>\n",
       "  </tbody>\n",
       "</table>\n",
       "</div>"
      ],
      "text/plain": [
       "        Image Index          Finding Labels  Follow-up #  Patient ID  \\\n",
       "0  00000001_000.png            Cardiomegaly            0           1   \n",
       "1  00000001_001.png  Cardiomegaly|Emphysema            1           1   \n",
       "2  00000001_002.png   Cardiomegaly|Effusion            2           1   \n",
       "3  00000002_000.png              No Finding            0           2   \n",
       "4  00000003_000.png                  Hernia            0           3   \n",
       "\n",
       "   Patient Age Patient Gender View Position  OriginalImage[Width  Height]  \\\n",
       "0           58              M            PA                 2682     2749   \n",
       "1           58              M            PA                 2894     2729   \n",
       "2           58              M            PA                 2500     2048   \n",
       "3           81              M            PA                 2500     2048   \n",
       "4           81              F            PA                 2582     2991   \n",
       "\n",
       "   OriginalImagePixelSpacing[x     y]  Unnamed: 11  \n",
       "0                        0.143  0.143          NaN  \n",
       "1                        0.143  0.143          NaN  \n",
       "2                        0.168  0.168          NaN  \n",
       "3                        0.171  0.171          NaN  \n",
       "4                        0.143  0.143          NaN  "
      ]
     },
     "execution_count": 3,
     "metadata": {},
     "output_type": "execute_result"
    }
   ],
   "source": [
    "images.head()"
   ]
  },
  {
   "cell_type": "code",
   "execution_count": 4,
   "metadata": {},
   "outputs": [
    {
     "data": {
      "text/plain": [
       "Image Index                     object\n",
       "Finding Labels                  object\n",
       "Follow-up #                      int64\n",
       "Patient ID                       int64\n",
       "Patient Age                      int64\n",
       "Patient Gender                  object\n",
       "View Position                   object\n",
       "OriginalImage[Width              int64\n",
       "Height]                          int64\n",
       "OriginalImagePixelSpacing[x    float64\n",
       "y]                             float64\n",
       "Unnamed: 11                    float64\n",
       "dtype: object"
      ]
     },
     "execution_count": 4,
     "metadata": {},
     "output_type": "execute_result"
    }
   ],
   "source": [
    "images.dtypes"
   ]
  },
  {
   "cell_type": "code",
   "execution_count": 5,
   "metadata": {},
   "outputs": [],
   "source": [
    "cols = ['Image Index', 'Finding Labels']"
   ]
  },
  {
   "cell_type": "code",
   "execution_count": 6,
   "metadata": {},
   "outputs": [],
   "source": [
    "images = images[cols]"
   ]
  },
  {
   "cell_type": "code",
   "execution_count": 8,
   "metadata": {},
   "outputs": [
    {
     "data": {
      "text/html": [
       "<div>\n",
       "<style scoped>\n",
       "    .dataframe tbody tr th:only-of-type {\n",
       "        vertical-align: middle;\n",
       "    }\n",
       "\n",
       "    .dataframe tbody tr th {\n",
       "        vertical-align: top;\n",
       "    }\n",
       "\n",
       "    .dataframe thead th {\n",
       "        text-align: right;\n",
       "    }\n",
       "</style>\n",
       "<table border=\"1\" class=\"dataframe\">\n",
       "  <thead>\n",
       "    <tr style=\"text-align: right;\">\n",
       "      <th></th>\n",
       "      <th>Image Index</th>\n",
       "      <th>Finding Labels</th>\n",
       "    </tr>\n",
       "  </thead>\n",
       "  <tbody>\n",
       "    <tr>\n",
       "      <th>0</th>\n",
       "      <td>00000001_000.png</td>\n",
       "      <td>Cardiomegaly</td>\n",
       "    </tr>\n",
       "    <tr>\n",
       "      <th>1</th>\n",
       "      <td>00000001_001.png</td>\n",
       "      <td>Cardiomegaly|Emphysema</td>\n",
       "    </tr>\n",
       "    <tr>\n",
       "      <th>2</th>\n",
       "      <td>00000001_002.png</td>\n",
       "      <td>Cardiomegaly|Effusion</td>\n",
       "    </tr>\n",
       "    <tr>\n",
       "      <th>3</th>\n",
       "      <td>00000002_000.png</td>\n",
       "      <td>No Finding</td>\n",
       "    </tr>\n",
       "    <tr>\n",
       "      <th>4</th>\n",
       "      <td>00000003_000.png</td>\n",
       "      <td>Hernia</td>\n",
       "    </tr>\n",
       "  </tbody>\n",
       "</table>\n",
       "</div>"
      ],
      "text/plain": [
       "        Image Index          Finding Labels\n",
       "0  00000001_000.png            Cardiomegaly\n",
       "1  00000001_001.png  Cardiomegaly|Emphysema\n",
       "2  00000001_002.png   Cardiomegaly|Effusion\n",
       "3  00000002_000.png              No Finding\n",
       "4  00000003_000.png                  Hernia"
      ]
     },
     "execution_count": 8,
     "metadata": {},
     "output_type": "execute_result"
    }
   ],
   "source": [
    "images.head()"
   ]
  },
  {
   "cell_type": "code",
   "execution_count": 9,
   "metadata": {},
   "outputs": [],
   "source": [
    "labels_counts = images['Finding Labels'].value_counts()"
   ]
  },
  {
   "cell_type": "code",
   "execution_count": 10,
   "metadata": {},
   "outputs": [
    {
     "data": {
      "text/plain": [
       "No Finding                                                                                              60361\n",
       "Infiltration                                                                                             9547\n",
       "Atelectasis                                                                                              4215\n",
       "Effusion                                                                                                 3955\n",
       "Nodule                                                                                                   2705\n",
       "Pneumothorax                                                                                             2194\n",
       "Mass                                                                                                     2139\n",
       "Effusion|Infiltration                                                                                    1603\n",
       "Atelectasis|Infiltration                                                                                 1350\n",
       "Consolidation                                                                                            1310\n",
       "Atelectasis|Effusion                                                                                     1165\n",
       "Pleural_Thickening                                                                                       1126\n",
       "Cardiomegaly                                                                                             1093\n",
       "Emphysema                                                                                                 892\n",
       "Infiltration|Nodule                                                                                       829\n",
       "Atelectasis|Effusion|Infiltration                                                                         737\n",
       "Fibrosis                                                                                                  727\n",
       "Edema                                                                                                     628\n",
       "Cardiomegaly|Effusion                                                                                     484\n",
       "Consolidation|Infiltration                                                                                441\n",
       "Infiltration|Mass                                                                                         420\n",
       "Effusion|Pneumothorax                                                                                     403\n",
       "Effusion|Mass                                                                                             402\n",
       "Atelectasis|Consolidation                                                                                 398\n",
       "Mass|Nodule                                                                                               394\n",
       "Edema|Infiltration                                                                                        392\n",
       "Infiltration|Pneumothorax                                                                                 345\n",
       "Consolidation|Effusion                                                                                    337\n",
       "Emphysema|Pneumothorax                                                                                    337\n",
       "Pneumonia                                                                                                 322\n",
       "                                                                                                        ...  \n",
       "Effusion|Mass|Nodule|Pneumonia                                                                              1\n",
       "Pneumothorax|Atelectasis                                                                                    1\n",
       "Cardiomegaly|Consolidation|Effusion|Infiltration|Nodule                                                     1\n",
       "Atelectasis|Consolidation|Edema|Mass|Pleural_Thickening                                                     1\n",
       "Emphysema|Hernia|Pleural_Thickening                                                                         1\n",
       "Consolidation|Hernia|Mass                                                                                   1\n",
       "Cardiomegaly|Consolidation|Edema|Effusion|Pleural_Thickening                                                1\n",
       "Effusion|Emphysema|Fibrosis|Nodule|Pneumothorax                                                             1\n",
       "Atelectasis|Consolidation|Effusion|Fibrosis|Infiltration|Mass|Pleural_Thickening                            1\n",
       "Atelectasis|Consolidation|Effusion|Infiltration|Mass|Pneumothorax                                           1\n",
       "Effusion|Fibrosis|Mass|Nodule                                                                               1\n",
       "Infiltration|Effusion                                                                                       1\n",
       "Cardiomegaly|Consolidation|Effusion|Infiltration|Mass|Nodule                                                1\n",
       "Atelectasis|Consolidation|Mass|Pleural_Thickening                                                           1\n",
       "Consolidation|Fibrosis|Infiltration|Pleural_Thickening|Mass                                                 1\n",
       "Consolidation|Emphysema|Infiltration|Nodule                                                                 1\n",
       "Emphysema|Nodule|Pleural_Thickening|Pneumothorax                                                            1\n",
       "Consolidation|Effusion|Emphysema                                                                            1\n",
       "Consolidation|Fibrosis|Nodule|Pneumonia                                                                     1\n",
       "Atelectasis|Cardiomegaly|Consolidation|Edema|Effusion|Infiltration|Mass|Nodule                              1\n",
       "Effusion|Pleural_Thickening|Pneumonia                                                                       1\n",
       "Effusion|Emphysema|Nodule|Pleural_Thickening                                                                1\n",
       "Atelectasis|Emphysema|Infiltration|Mass|Pleural_Thickening|Pneumothorax                                     1\n",
       "Edema|Effusion|Pleural_Thickening|Pneumonia|Pneumothorax                                                    1\n",
       "Atelectasis|Fibrosis|Infiltration|Pleural_Thickening                                                        1\n",
       "Atelectasis|Consolidation|Effusion|Fibrosis|Infiltration|Mass|Nodule|Pleural_Thickening|Pneumothorax        1\n",
       "Atelectasis|Consolidation|Fibrosis|Infiltration                                                             1\n",
       "Edema|Effusion|Pleural_Thickening|Pneumonia                                                                 1\n",
       "Mass|Infiltration|Pneumonia                                                                                 1\n",
       "Emphysema|Mass|Nodule|Pleural_Thickening                                                                    1\n",
       "Name: Finding Labels, Length: 836, dtype: int64"
      ]
     },
     "execution_count": 10,
     "metadata": {},
     "output_type": "execute_result"
    }
   ],
   "source": [
    "labels_counts"
   ]
  },
  {
   "cell_type": "code",
   "execution_count": 11,
   "metadata": {},
   "outputs": [],
   "source": [
    "labels = images['Finding Labels'].unique()"
   ]
  },
  {
   "cell_type": "code",
   "execution_count": 12,
   "metadata": {},
   "outputs": [
    {
     "name": "stdout",
     "output_type": "stream",
     "text": [
      "cardiomegaly\n",
      "no finding\n",
      "hernia\n",
      "infiltration\n",
      "nodule\n",
      "emphysema\n",
      "effusion\n",
      "atelectasis\n",
      "pleural_thickening\n",
      "pneumothorax\n",
      "mass\n",
      "fibrosis\n",
      "consolidation\n",
      "edema\n",
      "pneumonia\n"
     ]
    }
   ],
   "source": [
    "useless = 0\n",
    "for label in labels:\n",
    "    if(\"|\" in label):\n",
    "        useless += 1\n",
    "    else:\n",
    "        print(label.lower())"
   ]
  },
  {
   "cell_type": "code",
   "execution_count": 13,
   "metadata": {},
   "outputs": [],
   "source": [
    "cardiomegaly = images.loc[images['Finding Labels'] == 'Cardiomegaly']\n",
    "no_finding = images.loc[images['Finding Labels'] == 'No Finding']\n",
    "hernia = images.loc[images['Finding Labels'] == 'Hernia']\n",
    "infiltration = images.loc[images['Finding Labels'] == 'Infiltration']\n",
    "nodule = images.loc[images['Finding Labels'] == 'Nodule']\n",
    "emphysema = images.loc[images['Finding Labels'] == 'Emphysema']\n",
    "effusion = images.loc[images['Finding Labels'] == 'Effusion']\n",
    "atelectasis = images.loc[images['Finding Labels'] == 'Atelectasis']\n",
    "pleural_thickening = images.loc[images['Finding Labels'] == 'Pleural_Thickening']\n",
    "pneumothorax = images.loc[images['Finding Labels'] == 'Pneumothorax']\n",
    "mass = images.loc[images['Finding Labels'] == 'Mass']\n",
    "fibrosis = images.loc[images['Finding Labels'] == 'Fibrosis']\n",
    "consolidation = images.loc[images['Finding Labels'] == 'Consolidation']\n",
    "edema = images.loc[images['Finding Labels'] == 'Edema']\n",
    "pneumonia = images.loc[images['Finding Labels'] == 'Pneumonia']"
   ]
  },
  {
   "cell_type": "code",
   "execution_count": 14,
   "metadata": {},
   "outputs": [
    {
     "name": "stdout",
     "output_type": "stream",
     "text": [
      "Image Index       322\n",
      "Finding Labels    322\n",
      "dtype: int64\n"
     ]
    }
   ],
   "source": [
    "print(pneumonia.count())"
   ]
  },
  {
   "cell_type": "code",
   "execution_count": 15,
   "metadata": {},
   "outputs": [],
   "source": [
    "cardiomegaly_img = cardiomegaly['Image Index'].values\n",
    "no_finding_img = no_finding['Image Index'].values\n",
    "hernia_img = hernia['Image Index'].values\n",
    "infiltration_img = infiltration['Image Index'].values\n",
    "nodule_img = nodule['Image Index'].values\n",
    "emphysema_img = emphysema['Image Index'].values\n",
    "effusion_img = effusion['Image Index'].values\n",
    "atelectasis_img = atelectasis['Image Index'].values\n",
    "pleural_thickening_img = pleural_thickening['Image Index'].values\n",
    "pneumothorax_img = pneumothorax['Image Index'].values\n",
    "mass_img = mass['Image Index'].values\n",
    "fibrosis_img = fibrosis['Image Index'].values\n",
    "consolidation_img = consolidation['Image Index'].values\n",
    "edema_img = edema['Image Index'].values\n",
    "pneumonia_img = pneumonia['Image Index'].values"
   ]
  },
  {
   "cell_type": "code",
   "execution_count": 16,
   "metadata": {},
   "outputs": [],
   "source": [
    "import os"
   ]
  },
  {
   "cell_type": "code",
   "execution_count": 17,
   "metadata": {},
   "outputs": [],
   "source": [
    "from shutil import copyfile\n",
    "from sys import exit"
   ]
  },
  {
   "cell_type": "code",
   "execution_count": null,
   "metadata": {},
   "outputs": [],
   "source": [
    "os.makedirs('cardiomegaly', exist_ok=True)\n",
    "os.makedirs('no_finding', exist_ok=True)\n",
    "os.makedirs('hernia', exist_ok=True)\n",
    "os.makedirs('infiltration', exist_ok=True)\n",
    "os.makedirs('nodule', exist_ok=True)\n",
    "os.makedirs('emphysema', exist_ok=True)\n",
    "os.makedirs('effusion', exist_ok=True)\n",
    "os.makedirs('atelectasis', exist_ok=True)\n",
    "os.makedirs('pleural_thickening', exist_ok=True)\n",
    "os.makedirs('pneumothorax', exist_ok=True)\n",
    "os.makedirs('mass', exist_ok=True)\n",
    "os.makedirs('fibrosis', exist_ok=True)\n",
    "os.makedirs('consolidation', exist_ok=True)\n",
    "os.makedirs('edema', exist_ok=True)\n",
    "os.makedirs('pneumonia', exist_ok=True)\n"
   ]
  },
  {
   "cell_type": "code",
   "execution_count": null,
   "metadata": {},
   "outputs": [],
   "source": [
    "for img in pneumonia_img:\n",
    "    base = '/home/jf/Documents/estudio/xrays/224/images/'\n",
    "    target = os.getcwd() + '/pneumonia/'\n",
    "    base = base + img\n",
    "    target = target + img\n",
    "    print(base, target)\n",
    "    copyfile(base, target)"
   ]
  },
  {
   "cell_type": "code",
   "execution_count": null,
   "metadata": {},
   "outputs": [],
   "source": [
    "for img in cardiomegaly_img:\n",
    "    base = '/home/jf/Documents/estudio/xrays/224/images/'\n",
    "    target = os.getcwd() + '/cardiomegaly/'\n",
    "    base = base + img\n",
    "    target = target + img\n",
    "    print(base, target)\n",
    "    copyfile(base, target)"
   ]
  },
  {
   "cell_type": "code",
   "execution_count": null,
   "metadata": {},
   "outputs": [],
   "source": [
    "for img in no_finding_img:\n",
    "    base = '/home/jf/Documents/estudio/xrays/224/images/'\n",
    "    target = os.getcwd() + '/no_finding/'\n",
    "    base = base + img\n",
    "    target = target + img\n",
    "    print(base, target)\n",
    "    copyfile(base, target)"
   ]
  },
  {
   "cell_type": "code",
   "execution_count": 2,
   "metadata": {},
   "outputs": [
    {
     "ename": "NameError",
     "evalue": "name 'hernia_img' is not defined",
     "output_type": "error",
     "traceback": [
      "\u001b[0;31m---------------------------------------------------------------------------\u001b[0m",
      "\u001b[0;31mNameError\u001b[0m                                 Traceback (most recent call last)",
      "\u001b[0;32m<ipython-input-2-1134bca9791e>\u001b[0m in \u001b[0;36m<module>\u001b[0;34m()\u001b[0m\n\u001b[0;32m----> 1\u001b[0;31m \u001b[0;32mfor\u001b[0m \u001b[0mimg\u001b[0m \u001b[0;32min\u001b[0m \u001b[0mhernia_img\u001b[0m\u001b[0;34m:\u001b[0m\u001b[0;34m\u001b[0m\u001b[0m\n\u001b[0m\u001b[1;32m      2\u001b[0m     \u001b[0mbase\u001b[0m \u001b[0;34m=\u001b[0m \u001b[0;34m'/home/jf/Documents/estudio/xrays/224/images/'\u001b[0m\u001b[0;34m\u001b[0m\u001b[0m\n\u001b[1;32m      3\u001b[0m     \u001b[0mtarget\u001b[0m \u001b[0;34m=\u001b[0m \u001b[0mos\u001b[0m\u001b[0;34m.\u001b[0m\u001b[0mgetcwd\u001b[0m\u001b[0;34m(\u001b[0m\u001b[0;34m)\u001b[0m \u001b[0;34m+\u001b[0m \u001b[0;34m'/hernia/'\u001b[0m\u001b[0;34m\u001b[0m\u001b[0m\n\u001b[1;32m      4\u001b[0m     \u001b[0mbase\u001b[0m \u001b[0;34m=\u001b[0m \u001b[0mbase\u001b[0m \u001b[0;34m+\u001b[0m \u001b[0mimg\u001b[0m\u001b[0;34m\u001b[0m\u001b[0m\n\u001b[1;32m      5\u001b[0m     \u001b[0mtarget\u001b[0m \u001b[0;34m=\u001b[0m \u001b[0mtarget\u001b[0m \u001b[0;34m+\u001b[0m \u001b[0mimg\u001b[0m\u001b[0;34m\u001b[0m\u001b[0m\n",
      "\u001b[0;31mNameError\u001b[0m: name 'hernia_img' is not defined"
     ]
    }
   ],
   "source": [
    "for img in hernia_img:\n",
    "    base = '/home/jf/Documents/estudio/xrays/224/images/'\n",
    "    target = os.getcwd() + '/hernia/'\n",
    "    base = base + img\n",
    "    target = target + img\n",
    "    print(base, target)\n",
    "    copyfile(base, target)"
   ]
  },
  {
   "cell_type": "code",
   "execution_count": null,
   "metadata": {},
   "outputs": [],
   "source": [
    "for img in infiltration_img:\n",
    "    base = '/home/jf/Documents/estudio/xrays/224/images/'\n",
    "    target = os.getcwd() + '/infiltration/'\n",
    "    base = base + img\n",
    "    target = target + img\n",
    "    print(base, target)\n",
    "    copyfile(base, target)"
   ]
  },
  {
   "cell_type": "code",
   "execution_count": null,
   "metadata": {},
   "outputs": [],
   "source": [
    "for img in nodule_img:\n",
    "    base = '/home/jf/Documents/estudio/xrays/224/images/'\n",
    "    target = os.getcwd() + '/nodule/'\n",
    "    base = base + img\n",
    "    target = target + img\n",
    "    print(base, target)\n",
    "    copyfile(base, target)"
   ]
  },
  {
   "cell_type": "code",
   "execution_count": null,
   "metadata": {},
   "outputs": [],
   "source": [
    "for img in emphysema_img:\n",
    "    base = '/home/jf/Documents/estudio/xrays/224/images/'\n",
    "    target = os.getcwd() + '/emphysema/'\n",
    "    base = base + img\n",
    "    target = target + img\n",
    "    print(base, target)\n",
    "    copyfile(base, target)"
   ]
  },
  {
   "cell_type": "code",
   "execution_count": null,
   "metadata": {},
   "outputs": [],
   "source": [
    "for img in effusion_img:\n",
    "    base = '/home/jf/Documents/estudio/xrays/224/images/'\n",
    "    target = os.getcwd() + '/effusion/'\n",
    "    base = base + img\n",
    "    target = target + img\n",
    "    print(base, target)\n",
    "    copyfile(base, target)"
   ]
  },
  {
   "cell_type": "code",
   "execution_count": null,
   "metadata": {},
   "outputs": [],
   "source": [
    "for img in atelectasis_img:\n",
    "    base = '/home/jf/Documents/estudio/xrays/224/images/'\n",
    "    target = os.getcwd() + '/atelectasis/'\n",
    "    base = base + img\n",
    "    target = target + img\n",
    "    print(base, target)\n",
    "    copyfile(base, target)"
   ]
  },
  {
   "cell_type": "code",
   "execution_count": null,
   "metadata": {},
   "outputs": [],
   "source": [
    "for img in pleural_thickening_img:\n",
    "    base = '/home/jf/Documents/estudio/xrays/224/images/'\n",
    "    target = os.getcwd() + '/pleural_thickening/'\n",
    "    base = base + img\n",
    "    target = target + img\n",
    "    print(base, target)\n",
    "    copyfile(base, target)"
   ]
  },
  {
   "cell_type": "code",
   "execution_count": null,
   "metadata": {},
   "outputs": [],
   "source": [
    "for img in pneumothorax_img:\n",
    "    base = '/home/jf/Documents/estudio/xrays/224/images/'\n",
    "    target = os.getcwd() + '/pneumothorax/'\n",
    "    base = base + img\n",
    "    target = target + img\n",
    "    print(base, target)\n",
    "    copyfile(base, target)"
   ]
  },
  {
   "cell_type": "code",
   "execution_count": null,
   "metadata": {},
   "outputs": [],
   "source": [
    "for img in mass_img:\n",
    "    base = '/home/jf/Documents/estudio/xrays/224/images/'\n",
    "    target = os.getcwd() + '/mass/'\n",
    "    base = base + img\n",
    "    target = target + img\n",
    "    print(base, target)\n",
    "    copyfile(base, target)"
   ]
  },
  {
   "cell_type": "code",
   "execution_count": null,
   "metadata": {},
   "outputs": [],
   "source": [
    "for img in fibrosis_img:\n",
    "    base = '/home/jf/Documents/estudio/xrays/224/images/'\n",
    "    target = os.getcwd() + '/fibrosis/'\n",
    "    base = base + img\n",
    "    target = target + img\n",
    "    print(base, target)\n",
    "    copyfile(base, target)"
   ]
  },
  {
   "cell_type": "code",
   "execution_count": null,
   "metadata": {},
   "outputs": [],
   "source": [
    "for img in consolidation_img:\n",
    "    base = '/home/jf/Documents/estudio/xrays/224/images/'\n",
    "    target = os.getcwd() + '/consolidation/'\n",
    "    base = base + img\n",
    "    target = target + img\n",
    "    print(base, target)\n",
    "    copyfile(base, target)"
   ]
  },
  {
   "cell_type": "code",
   "execution_count": null,
   "metadata": {},
   "outputs": [],
   "source": [
    "for img in edema_img:\n",
    "    base = '/home/jf/Documents/estudio/xrays/224/images/'\n",
    "    target = os.getcwd() + '/edema/'\n",
    "    base = base + img\n",
    "    target = target + img\n",
    "    print(base, target)\n",
    "    copyfile(base, target)"
   ]
  }
 ],
 "metadata": {
  "kernelspec": {
   "display_name": "Python 3",
   "language": "python",
   "name": "python3"
  },
  "language_info": {
   "codemirror_mode": {
    "name": "ipython",
    "version": 3
   },
   "file_extension": ".py",
   "mimetype": "text/x-python",
   "name": "python",
   "nbconvert_exporter": "python",
   "pygments_lexer": "ipython3",
   "version": "3.6.5"
  }
 },
 "nbformat": 4,
 "nbformat_minor": 2
}
