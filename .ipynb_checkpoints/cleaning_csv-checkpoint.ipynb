{
 "cells": [
  {
   "cell_type": "code",
   "execution_count": null,
   "metadata": {},
   "outputs": [],
   "source": [
    "import numpy as np\n",
    "import pandas as pd              "
   ]
  },
  {
   "cell_type": "code",
   "execution_count": null,
   "metadata": {},
   "outputs": [],
   "source": [
    "images = pd.read_csv('../Data_Entry_2017.csv',encoding='utf-8')"
   ]
  },
  {
   "cell_type": "code",
   "execution_count": null,
   "metadata": {},
   "outputs": [],
   "source": [
    "images.head()"
   ]
  },
  {
   "cell_type": "code",
   "execution_count": null,
   "metadata": {},
   "outputs": [],
   "source": [
    "images.dtypes"
   ]
  },
  {
   "cell_type": "code",
   "execution_count": null,
   "metadata": {},
   "outputs": [],
   "source": [
    "cols = ['Image Index', 'Finding Labels']"
   ]
  },
  {
   "cell_type": "code",
   "execution_count": null,
   "metadata": {},
   "outputs": [],
   "source": [
    "images = images[cols]"
   ]
  },
  {
   "cell_type": "code",
   "execution_count": null,
   "metadata": {},
   "outputs": [],
   "source": [
    "images.head()"
   ]
  },
  {
   "cell_type": "code",
   "execution_count": null,
   "metadata": {},
   "outputs": [],
   "source": [
    "labels_counts = images['Finding Labels'].value_counts()"
   ]
  },
  {
   "cell_type": "code",
   "execution_count": null,
   "metadata": {},
   "outputs": [],
   "source": [
    "labels = images['Finding Labels'].unique()"
   ]
  },
  {
   "cell_type": "code",
   "execution_count": null,
   "metadata": {},
   "outputs": [],
   "source": [
    "useless = 0\n",
    "for label in labels:\n",
    "    if(\"|\" in label):\n",
    "        useless += 1\n",
    "    else:\n",
    "        print(label.lower())"
   ]
  },
  {
   "cell_type": "code",
   "execution_count": null,
   "metadata": {},
   "outputs": [],
   "source": [
    "cardiomegaly = images.loc[images['Finding Labels'] == 'Cardiomegaly']\n",
    "no_finding = images.loc[images['Finding Labels'] == 'No Finding']\n",
    "hernia = images.loc[images['Finding Labels'] == 'Hernia']\n",
    "infiltration = images.loc[images['Finding Labels'] == 'Infiltration']\n",
    "nodule = images.loc[images['Finding Labels'] == 'Nodule']\n",
    "emphysema = images.loc[images['Finding Labels'] == 'Emphysema']\n",
    "effusion = images.loc[images['Finding Labels'] == 'Effusion']\n",
    "atelectasis = images.loc[images['Finding Labels'] == 'Atelectasis']\n",
    "pleural_thickening = images.loc[images['Finding Labels'] == 'Pleural_Thickening']\n",
    "pneumothorax = images.loc[images['Finding Labels'] == 'Pneumothorax']\n",
    "mass = images.loc[images['Finding Labels'] == 'Mass']\n",
    "fibrosis = images.loc[images['Finding Labels'] == 'Fibrosis']\n",
    "consolidation = images.loc[images['Finding Labels'] == 'Consolidation']\n",
    "edema = images.loc[images['Finding Labels'] == 'Edema']\n",
    "pneumonia = images.loc[images['Finding Labels'] == 'Pneumonia']"
   ]
  },
  {
   "cell_type": "code",
   "execution_count": null,
   "metadata": {},
   "outputs": [],
   "source": [
    "print(pneumonia.count())"
   ]
  },
  {
   "cell_type": "code",
   "execution_count": null,
   "metadata": {},
   "outputs": [],
   "source": [
    "cardiomegaly_img = cardiomegaly['Image Index'].values\n",
    "no_finding_img = no_finding['Image Index'].values\n",
    "hernia_img = hernia['Image Index'].values\n",
    "infiltration_img = infiltration['Image Index'].values\n",
    "nodule_img = nodule['Image Index'].values\n",
    "emphysema_img = emphysema['Image Index'].values\n",
    "effusion_img = effusion['Image Index'].values\n",
    "atelectasis_img = atelectasis['Image Index'].values\n",
    "pleural_thickening_img = pleural_thickening['Image Index'].values\n",
    "pneumothorax_img = pneumothorax['Image Index'].values\n",
    "mass_img = mass['Image Index'].values\n",
    "fibrosis_img = fibrosis['Image Index'].values\n",
    "consolidation_img = consolidation['Image Index'].values\n",
    "edema_img = edema['Image Index'].values\n",
    "pneumonia_img = pneumonia['Image Index'].values"
   ]
  },
  {
   "cell_type": "code",
   "execution_count": null,
   "metadata": {},
   "outputs": [],
   "source": [
    "import os"
   ]
  },
  {
   "cell_type": "code",
   "execution_count": null,
   "metadata": {},
   "outputs": [],
   "source": [
    "from shutil import copyfile\n",
    "from sys import exit"
   ]
  },
  {
   "cell_type": "code",
   "execution_count": null,
   "metadata": {},
   "outputs": [],
   "source": [
    "os.makedirs('cardiomegaly', exist_ok=True)\n",
    "os.makedirs('no_finding', exist_ok=True)\n",
    "os.makedirs('hernia', exist_ok=True)\n",
    "os.makedirs('infiltration', exist_ok=True)\n",
    "os.makedirs('nodule', exist_ok=True)\n",
    "os.makedirs('emphysema', exist_ok=True)\n",
    "os.makedirs('effusion', exist_ok=True)\n",
    "os.makedirs('atelectasis', exist_ok=True)\n",
    "os.makedirs('pleural_thickening', exist_ok=True)\n",
    "os.makedirs('pneumothorax', exist_ok=True)\n",
    "os.makedirs('mass', exist_ok=True)\n",
    "os.makedirs('fibrosis', exist_ok=True)\n",
    "os.makedirs('consolidation', exist_ok=True)\n",
    "os.makedirs('edema', exist_ok=True)\n",
    "os.makedirs('pneumonia', exist_ok=True)\n"
   ]
  },
  {
   "cell_type": "code",
   "execution_count": null,
   "metadata": {},
   "outputs": [],
   "source": [
    "for img in pneumonia_img:\n",
    "    base = '/home/jf/Documents/estudio/xrays/224/images/'\n",
    "    target = os.getcwd() + '/pneumonia/'\n",
    "    base = base + img\n",
    "    target = target + img\n",
    "    print(base, target)\n",
    "    copyfile(base, target)"
   ]
  },
  {
   "cell_type": "code",
   "execution_count": null,
   "metadata": {},
   "outputs": [],
   "source": [
    "for img in cardiomegaly_img:\n",
    "    base = '/home/jf/Documents/estudio/xrays/224/images/'\n",
    "    target = os.getcwd() + '/cardiomegaly/'\n",
    "    base = base + img\n",
    "    target = target + img\n",
    "    print(base, target)\n",
    "    copyfile(base, target)"
   ]
  },
  {
   "cell_type": "code",
   "execution_count": null,
   "metadata": {},
   "outputs": [],
   "source": [
    "for img in no_finding_img:\n",
    "    base = '/home/jf/Documents/estudio/xrays/224/images/'\n",
    "    target = os.getcwd() + '/no_finding/'\n",
    "    base = base + img\n",
    "    target = target + img\n",
    "    print(base, target)\n",
    "    copyfile(base, target)"
   ]
  },
  {
   "cell_type": "code",
   "execution_count": 2,
   "metadata": {},
   "outputs": [
    {
     "ename": "NameError",
     "evalue": "name 'hernia_img' is not defined",
     "output_type": "error",
     "traceback": [
      "\u001b[0;31m---------------------------------------------------------------------------\u001b[0m",
      "\u001b[0;31mNameError\u001b[0m                                 Traceback (most recent call last)",
      "\u001b[0;32m<ipython-input-2-1134bca9791e>\u001b[0m in \u001b[0;36m<module>\u001b[0;34m()\u001b[0m\n\u001b[0;32m----> 1\u001b[0;31m \u001b[0;32mfor\u001b[0m \u001b[0mimg\u001b[0m \u001b[0;32min\u001b[0m \u001b[0mhernia_img\u001b[0m\u001b[0;34m:\u001b[0m\u001b[0;34m\u001b[0m\u001b[0m\n\u001b[0m\u001b[1;32m      2\u001b[0m     \u001b[0mbase\u001b[0m \u001b[0;34m=\u001b[0m \u001b[0;34m'/home/jf/Documents/estudio/xrays/224/images/'\u001b[0m\u001b[0;34m\u001b[0m\u001b[0m\n\u001b[1;32m      3\u001b[0m     \u001b[0mtarget\u001b[0m \u001b[0;34m=\u001b[0m \u001b[0mos\u001b[0m\u001b[0;34m.\u001b[0m\u001b[0mgetcwd\u001b[0m\u001b[0;34m(\u001b[0m\u001b[0;34m)\u001b[0m \u001b[0;34m+\u001b[0m \u001b[0;34m'/hernia/'\u001b[0m\u001b[0;34m\u001b[0m\u001b[0m\n\u001b[1;32m      4\u001b[0m     \u001b[0mbase\u001b[0m \u001b[0;34m=\u001b[0m \u001b[0mbase\u001b[0m \u001b[0;34m+\u001b[0m \u001b[0mimg\u001b[0m\u001b[0;34m\u001b[0m\u001b[0m\n\u001b[1;32m      5\u001b[0m     \u001b[0mtarget\u001b[0m \u001b[0;34m=\u001b[0m \u001b[0mtarget\u001b[0m \u001b[0;34m+\u001b[0m \u001b[0mimg\u001b[0m\u001b[0;34m\u001b[0m\u001b[0m\n",
      "\u001b[0;31mNameError\u001b[0m: name 'hernia_img' is not defined"
     ]
    }
   ],
   "source": [
    "for img in hernia_img:\n",
    "    base = '/home/jf/Documents/estudio/xrays/224/images/'\n",
    "    target = os.getcwd() + '/hernia/'\n",
    "    base = base + img\n",
    "    target = target + img\n",
    "    print(base, target)\n",
    "    copyfile(base, target)"
   ]
  },
  {
   "cell_type": "code",
   "execution_count": null,
   "metadata": {},
   "outputs": [],
   "source": [
    "for img in infiltration_img:\n",
    "    base = '/home/jf/Documents/estudio/xrays/224/images/'\n",
    "    target = os.getcwd() + '/infiltration/'\n",
    "    base = base + img\n",
    "    target = target + img\n",
    "    print(base, target)\n",
    "    copyfile(base, target)"
   ]
  },
  {
   "cell_type": "code",
   "execution_count": null,
   "metadata": {},
   "outputs": [],
   "source": [
    "for img in nodule_img:\n",
    "    base = '/home/jf/Documents/estudio/xrays/224/images/'\n",
    "    target = os.getcwd() + '/nodule/'\n",
    "    base = base + img\n",
    "    target = target + img\n",
    "    print(base, target)\n",
    "    copyfile(base, target)"
   ]
  },
  {
   "cell_type": "code",
   "execution_count": null,
   "metadata": {},
   "outputs": [],
   "source": [
    "for img in emphysema_img:\n",
    "    base = '/home/jf/Documents/estudio/xrays/224/images/'\n",
    "    target = os.getcwd() + '/emphysema/'\n",
    "    base = base + img\n",
    "    target = target + img\n",
    "    print(base, target)\n",
    "    copyfile(base, target)"
   ]
  },
  {
   "cell_type": "code",
   "execution_count": null,
   "metadata": {},
   "outputs": [],
   "source": [
    "for img in effusion_img:\n",
    "    base = '/home/jf/Documents/estudio/xrays/224/images/'\n",
    "    target = os.getcwd() + '/effusion/'\n",
    "    base = base + img\n",
    "    target = target + img\n",
    "    print(base, target)\n",
    "    copyfile(base, target)"
   ]
  },
  {
   "cell_type": "code",
   "execution_count": null,
   "metadata": {},
   "outputs": [],
   "source": [
    "for img in atelectasis_img:\n",
    "    base = '/home/jf/Documents/estudio/xrays/224/images/'\n",
    "    target = os.getcwd() + '/atelectasis/'\n",
    "    base = base + img\n",
    "    target = target + img\n",
    "    print(base, target)\n",
    "    copyfile(base, target)"
   ]
  },
  {
   "cell_type": "code",
   "execution_count": null,
   "metadata": {},
   "outputs": [],
   "source": [
    "for img in pleural_thickening_img:\n",
    "    base = '/home/jf/Documents/estudio/xrays/224/images/'\n",
    "    target = os.getcwd() + '/pleural_thickening/'\n",
    "    base = base + img\n",
    "    target = target + img\n",
    "    print(base, target)\n",
    "    copyfile(base, target)"
   ]
  },
  {
   "cell_type": "code",
   "execution_count": null,
   "metadata": {},
   "outputs": [],
   "source": [
    "for img in pneumothorax_img:\n",
    "    base = '/home/jf/Documents/estudio/xrays/224/images/'\n",
    "    target = os.getcwd() + '/pneumothorax/'\n",
    "    base = base + img\n",
    "    target = target + img\n",
    "    print(base, target)\n",
    "    copyfile(base, target)"
   ]
  },
  {
   "cell_type": "code",
   "execution_count": null,
   "metadata": {},
   "outputs": [],
   "source": [
    "for img in mass_img:\n",
    "    base = '/home/jf/Documents/estudio/xrays/224/images/'\n",
    "    target = os.getcwd() + '/mass/'\n",
    "    base = base + img\n",
    "    target = target + img\n",
    "    print(base, target)\n",
    "    copyfile(base, target)"
   ]
  },
  {
   "cell_type": "code",
   "execution_count": null,
   "metadata": {},
   "outputs": [],
   "source": [
    "for img in fibrosis_img:\n",
    "    base = '/home/jf/Documents/estudio/xrays/224/images/'\n",
    "    target = os.getcwd() + '/fibrosis/'\n",
    "    base = base + img\n",
    "    target = target + img\n",
    "    print(base, target)\n",
    "    copyfile(base, target)"
   ]
  },
  {
   "cell_type": "code",
   "execution_count": null,
   "metadata": {},
   "outputs": [],
   "source": [
    "for img in consolidation_img:\n",
    "    base = '/home/jf/Documents/estudio/xrays/224/images/'\n",
    "    target = os.getcwd() + '/consolidation/'\n",
    "    base = base + img\n",
    "    target = target + img\n",
    "    print(base, target)\n",
    "    copyfile(base, target)"
   ]
  },
  {
   "cell_type": "code",
   "execution_count": null,
   "metadata": {},
   "outputs": [],
   "source": [
    "for img in edema_img:\n",
    "    base = '/home/jf/Documents/estudio/xrays/224/images/'\n",
    "    target = os.getcwd() + '/edema/'\n",
    "    base = base + img\n",
    "    target = target + img\n",
    "    print(base, target)\n",
    "    copyfile(base, target)"
   ]
  }
 ],
 "metadata": {
  "kernelspec": {
   "display_name": "Python 3",
   "language": "python",
   "name": "python3"
  },
  "language_info": {
   "codemirror_mode": {
    "name": "ipython",
    "version": 3
   },
   "file_extension": ".py",
   "mimetype": "text/x-python",
   "name": "python",
   "nbconvert_exporter": "python",
   "pygments_lexer": "ipython3",
   "version": "3.6.5"
  }
 },
 "nbformat": 4,
 "nbformat_minor": 2
}
