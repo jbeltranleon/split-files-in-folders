{
 "cells": [
  {
   "cell_type": "code",
   "execution_count": 2,
   "metadata": {},
   "outputs": [],
   "source": [
    "import numpy as np\n",
    "import pandas as pd"
   ]
  },
  {
   "cell_type": "code",
   "execution_count": 3,
   "metadata": {},
   "outputs": [],
   "source": [
    "images = pd.read_csv('../Data_Entry_2017.csv',encoding='utf-8')"
   ]
  },
  {
   "cell_type": "code",
   "execution_count": 4,
   "metadata": {},
   "outputs": [],
   "source": [
    "cols = ['Image Index', 'Finding Labels']"
   ]
  },
  {
   "cell_type": "code",
   "execution_count": 5,
   "metadata": {},
   "outputs": [],
   "source": [
    "images = images[cols]"
   ]
  },
  {
   "cell_type": "code",
   "execution_count": 6,
   "metadata": {},
   "outputs": [],
   "source": [
    "cardiomegaly = images.loc[images['Finding Labels'] == 'Cardiomegaly']\n",
    "no_finding = images.loc[images['Finding Labels'] == 'No Finding']\n",
    "hernia = images.loc[images['Finding Labels'] == 'Hernia']\n",
    "infiltration = images.loc[images['Finding Labels'] == 'Infiltration']\n",
    "nodule = images.loc[images['Finding Labels'] == 'Nodule']\n",
    "emphysema = images.loc[images['Finding Labels'] == 'Emphysema']\n",
    "effusion = images.loc[images['Finding Labels'] == 'Effusion']\n",
    "atelectasis = images.loc[images['Finding Labels'] == 'Atelectasis']\n",
    "pleural_thickening = images.loc[images['Finding Labels'] == 'Pleural_Thickening']\n",
    "pneumothorax = images.loc[images['Finding Labels'] == 'Pneumothorax']\n",
    "mass = images.loc[images['Finding Labels'] == 'Mass']\n",
    "fibrosis = images.loc[images['Finding Labels'] == 'Fibrosis']\n",
    "consolidation = images.loc[images['Finding Labels'] == 'Consolidation']\n",
    "edema = images.loc[images['Finding Labels'] == 'Edema']\n",
    "pneumonia = images.loc[images['Finding Labels'] == 'Pneumonia']"
   ]
  },
  {
   "cell_type": "code",
   "execution_count": 7,
   "metadata": {},
   "outputs": [
    {
     "data": {
      "text/html": [
       "<div>\n",
       "<style scoped>\n",
       "    .dataframe tbody tr th:only-of-type {\n",
       "        vertical-align: middle;\n",
       "    }\n",
       "\n",
       "    .dataframe tbody tr th {\n",
       "        vertical-align: top;\n",
       "    }\n",
       "\n",
       "    .dataframe thead th {\n",
       "        text-align: right;\n",
       "    }\n",
       "</style>\n",
       "<table border=\"1\" class=\"dataframe\">\n",
       "  <thead>\n",
       "    <tr style=\"text-align: right;\">\n",
       "      <th></th>\n",
       "      <th>Image Index</th>\n",
       "      <th>Finding Labels</th>\n",
       "    </tr>\n",
       "  </thead>\n",
       "  <tbody>\n",
       "    <tr>\n",
       "      <th>0</th>\n",
       "      <td>00000001_000.png</td>\n",
       "      <td>Cardiomegaly</td>\n",
       "    </tr>\n",
       "    <tr>\n",
       "      <th>23</th>\n",
       "      <td>00000008_000.png</td>\n",
       "      <td>Cardiomegaly</td>\n",
       "    </tr>\n",
       "    <tr>\n",
       "      <th>83</th>\n",
       "      <td>00000013_045.png</td>\n",
       "      <td>Cardiomegaly</td>\n",
       "    </tr>\n",
       "    <tr>\n",
       "      <th>114</th>\n",
       "      <td>00000032_000.png</td>\n",
       "      <td>Cardiomegaly</td>\n",
       "    </tr>\n",
       "    <tr>\n",
       "      <th>135</th>\n",
       "      <td>00000032_021.png</td>\n",
       "      <td>Cardiomegaly</td>\n",
       "    </tr>\n",
       "  </tbody>\n",
       "</table>\n",
       "</div>"
      ],
      "text/plain": [
       "          Image Index Finding Labels\n",
       "0    00000001_000.png   Cardiomegaly\n",
       "23   00000008_000.png   Cardiomegaly\n",
       "83   00000013_045.png   Cardiomegaly\n",
       "114  00000032_000.png   Cardiomegaly\n",
       "135  00000032_021.png   Cardiomegaly"
      ]
     },
     "execution_count": 7,
     "metadata": {},
     "output_type": "execute_result"
    }
   ],
   "source": [
    "cardiomegaly.head()"
   ]
  },
  {
   "cell_type": "code",
   "execution_count": 8,
   "metadata": {},
   "outputs": [],
   "source": [
    "cardiomegaly_img = cardiomegaly['Image Index'].values\n",
    "no_finding_img = no_finding['Image Index'].values\n",
    "hernia_img = hernia['Image Index'].values\n",
    "infiltration_img = infiltration['Image Index'].values\n",
    "nodule_img = nodule['Image Index'].values\n",
    "emphysema_img = emphysema['Image Index'].values\n",
    "effusion_img = effusion['Image Index'].values\n",
    "atelectasis_img = atelectasis['Image Index'].values\n",
    "pleural_thickening_img = pleural_thickening['Image Index'].values\n",
    "pneumothorax_img = pneumothorax['Image Index'].values\n",
    "mass_img = mass['Image Index'].values\n",
    "fibrosis_img = fibrosis['Image Index'].values\n",
    "consolidation_img = consolidation['Image Index'].values\n",
    "edema_img = edema['Image Index'].values\n",
    "pneumonia_img = pneumonia['Image Index'].values"
   ]
  },
  {
   "cell_type": "code",
   "execution_count": 24,
   "metadata": {},
   "outputs": [
    {
     "name": "stdout",
     "output_type": "stream",
     "text": [
      "No Finding                                                                                        60361\n",
      "Infiltration                                                                                       9547\n",
      "Atelectasis                                                                                        4215\n",
      "Effusion                                                                                           3955\n",
      "Nodule                                                                                             2705\n",
      "Pneumothorax                                                                                       2194\n",
      "Mass                                                                                               2139\n",
      "Effusion|Infiltration                                                                              1603\n",
      "Atelectasis|Infiltration                                                                           1350\n",
      "Consolidation                                                                                      1310\n",
      "Atelectasis|Effusion                                                                               1165\n",
      "Pleural_Thickening                                                                                 1126\n",
      "Cardiomegaly                                                                                       1093\n",
      "Emphysema                                                                                           892\n",
      "Infiltration|Nodule                                                                                 829\n",
      "Atelectasis|Effusion|Infiltration                                                                   737\n",
      "Fibrosis                                                                                            727\n",
      "Edema                                                                                               628\n",
      "Cardiomegaly|Effusion                                                                               484\n",
      "Consolidation|Infiltration                                                                          441\n",
      "Infiltration|Mass                                                                                   420\n",
      "Effusion|Pneumothorax                                                                               403\n",
      "Effusion|Mass                                                                                       402\n",
      "Atelectasis|Consolidation                                                                           398\n",
      "Mass|Nodule                                                                                         394\n",
      "Edema|Infiltration                                                                                  392\n",
      "Infiltration|Pneumothorax                                                                           345\n",
      "Consolidation|Effusion                                                                              337\n",
      "Emphysema|Pneumothorax                                                                              337\n",
      "Pneumonia                                                                                           322\n",
      "                                                                                                  ...  \n",
      "Atelectasis|Emphysema|Mass|Pleural_Thickening|Pneumothorax                                            1\n",
      "Effusion|Fibrosis|Nodule                                                                              1\n",
      "Atelectasis|Edema|Effusion|Mass|Nodule                                                                1\n",
      "Emphysema|Infiltration|Atelectasis                                                                    1\n",
      "Cardiomegaly|Edema|Pleural_Thickening                                                                 1\n",
      "Atelectasis|Consolidation|Mass|Nodule|Pleural_Thickening|Pneumothorax                                 1\n",
      "Cardiomegaly|Effusion|Emphysema|Fibrosis                                                              1\n",
      "Atelectasis|Cardiomegaly|Consolidation|Edema|Effusion|Mass                                            1\n",
      "Cardiomegaly|Consolidation|Emphysema|Pneumothorax                                                     1\n",
      "Edema|Emphysema|Mass|Pneumothorax                                                                     1\n",
      "Effusion|Fibrosis|Infiltration|Pleural_Thickening|Pneumonia                                           1\n",
      "Atelectasis|Cardiomegaly|Consolidation|Effusion|Pleural_Thickening                                    1\n",
      "Atelectasis|Edema|Effusion|Mass|Pneumothorax                                                          1\n",
      "Atelectasis|Cardiomegaly|Fibrosis|Pleural_Thickening                                                  1\n",
      "Atelectasis|Consolidation|Edema|Effusion|Infiltration|Mass|Nodule|Pleural_Thickening|Pneumonia        1\n",
      "Effusion|Fibrosis|Infiltration|Pleural_Thickening                                                     1\n",
      "Effusion|Nodule|Pneumothorax|Mass                                                                     1\n",
      "Edema|Effusion|Infiltration|Pneumothorax                                                              1\n",
      "Emphysema|Infiltration|Mass|Nodule|Pleural_Thickening                                                 1\n",
      "Atelectasis|Cardiomegaly|Consolidation|Effusion|Infiltration|Mass                                     1\n",
      "Consolidation|Edema|Nodule                                                                            1\n",
      "Atelectasis|Consolidation|Effusion|Fibrosis|Mass                                                      1\n",
      "Atelectasis|Edema|Infiltration|Nodule|Pleural_Thickening                                              1\n",
      "Edema|Effusion|Emphysema|Infiltration                                                                 1\n",
      "Atelectasis|Consolidation|Mass|Nodule|Pleural_Thickening                                              1\n",
      "Emphysema|Infiltration|Nodule|Pleural_Thickening|Pneumothorax                                         1\n",
      "Edema|Effusion|Infiltration|Mass|Pneumonia                                                            1\n",
      "Atelectasis|Emphysema|Fibrosis|Pleural_Thickening                                                     1\n",
      "Cardiomegaly|Edema|Effusion|Fibrosis|Infiltration                                                     1\n",
      "Cardiomegaly|Consolidation|Edema|Effusion|Infiltration                                                1\n",
      "Name: Finding Labels, Length: 836, dtype: int64\n",
      "atelectasis\n",
      "cardiomegaly\n",
      "consolidation\n",
      "effusion\n",
      "infiltracion\n",
      "mass\n",
      "no_finding\n",
      "nodule\n",
      "pneumothorax\n",
      "9\n"
     ]
    }
   ],
   "source": [
    "labels_counts = images['Finding Labels'].value_counts()\n",
    "print(labels_counts)\n",
    "\n",
    "preferred = ['no_finding', 'infiltracion', 'atelectasis', 'effusion', 'nodule', 'pneumothorax', 'mass', 'consolidation', 'cardiomegaly']\n",
    "preferred.sort()\n",
    "for label in preferred:\n",
    "    print(label)\n",
    "print(len(preferred))"
   ]
  },
  {
   "cell_type": "code",
   "execution_count": 10,
   "metadata": {},
   "outputs": [],
   "source": [
    "labels = [\n",
    "            [cardiomegaly, cardiomegaly_img, 'cardiomegaly'],\n",
    "            [no_finding, no_finding_img, 'no_finding'],\n",
    "            [hernia, hernia_img, 'hernia'],\n",
    "            [infiltration, infiltration_img, 'infiltration'],\n",
    "            [nodule, nodule_img, 'nodule'],\n",
    "            [emphysema, emphysema_img, 'emphysema'],\n",
    "            [effusion, effusion_img, 'effusion'],\n",
    "            [atelectasis, atelectasis_img, 'atelectasis'],\n",
    "            [pleural_thickening, pleural_thickening_img, 'pleural_thickening'],\n",
    "            [pneumothorax, pneumothorax_img, 'pneumothorax'],\n",
    "            [mass, mass_img, 'mass'],\n",
    "            [fibrosis, fibrosis_img, 'fibrosis'],\n",
    "            [consolidation, consolidation_img, 'consolidation'],\n",
    "            [edema, edema_img, 'edema'],\n",
    "            [pneumonia, pneumonia_img, 'pneumonia']\n",
    "        ]"
   ]
  },
  {
   "cell_type": "code",
   "execution_count": 11,
   "metadata": {},
   "outputs": [
    {
     "name": "stdout",
     "output_type": "stream",
     "text": [
      "cardiomegaly\n",
      "no_finding\n",
      "hernia\n",
      "infiltration\n",
      "nodule\n",
      "emphysema\n",
      "effusion\n",
      "atelectasis\n",
      "pleural_thickening\n",
      "pneumothorax\n",
      "mass\n",
      "fibrosis\n",
      "consolidation\n",
      "edema\n",
      "pneumonia\n"
     ]
    }
   ],
   "source": [
    "for label in labels:\n",
    "    print(label[2])"
   ]
  },
  {
   "cell_type": "code",
   "execution_count": 12,
   "metadata": {},
   "outputs": [],
   "source": [
    "list_labels = ['cardiomegaly', 'no_finding', 'hernia', 'infiltration', 'nodule', 'emphysema', 'effusion', 'atelectasis', 'pleural_thickening', 'pneumothorax', 'mass', 'fibrosis', 'consolidation', 'edema', 'pneumonia']"
   ]
  },
  {
   "cell_type": "code",
   "execution_count": 13,
   "metadata": {},
   "outputs": [
    {
     "name": "stdout",
     "output_type": "stream",
     "text": [
      "ATELECTASIS\n",
      "CARDIOMEGALY\n",
      "CONSOLIDATION\n",
      "EDEMA\n",
      "EFFUSION\n",
      "EMPHYSEMA\n",
      "FIBROSIS\n",
      "HERNIA\n",
      "INFILTRATION\n",
      "MASS\n",
      "NO_FINDING\n",
      "NODULE\n",
      "PLEURAL_THICKENING\n",
      "PNEUMONIA\n",
      "PNEUMOTHORAX\n"
     ]
    }
   ],
   "source": [
    "list_labels.sort()\n",
    "list_labels\n",
    "\n",
    "for element in list_labels:\n",
    "    print(element.upper())"
   ]
  },
  {
   "cell_type": "code",
   "execution_count": 14,
   "metadata": {},
   "outputs": [],
   "source": [
    "from random import shuffle\n",
    "from math import floor, ceil"
   ]
  },
  {
   "cell_type": "code",
   "execution_count": 15,
   "metadata": {},
   "outputs": [
    {
     "name": "stdout",
     "output_type": "stream",
     "text": [
      "['00000032_000.png' '00028710_001.png' '00013682_000.png' ...\n",
      " '00017945_000.png' '00004526_008.png' '00008898_000.png']\n",
      "1093\n",
      "699 175 219\n",
      "1093\n"
     ]
    }
   ],
   "source": [
    "shuffle(cardiomegaly_img)\n",
    "print(cardiomegaly_img)\n",
    "print(len(cardiomegaly_img))\n",
    "base_train = floor(len(cardiomegaly_img)*.80)\n",
    "n_test = len(cardiomegaly_img)-base_train\n",
    "n_train = floor(base_train*.80)\n",
    "n_val = base_train - n_train\n",
    "\n",
    "print(n_train, n_val, n_test)\n",
    "print(n_train+n_val+n_test)\n",
    "\n",
    "train = cardiomegaly_img[:n_train]\n",
    "val = cardiomegaly_img[n_train:n_train + n_val]\n",
    "test = cardiomegaly_img[n_train + n_val:]"
   ]
  },
  {
   "cell_type": "code",
   "execution_count": 16,
   "metadata": {},
   "outputs": [
    {
     "name": "stdout",
     "output_type": "stream",
     "text": [
      "699 175 219\n",
      "1093\n"
     ]
    }
   ],
   "source": [
    "print(len(train) , len(val) , len(test))\n",
    "print(len(train) + len(val) + len(test))"
   ]
  },
  {
   "cell_type": "code",
   "execution_count": 17,
   "metadata": {},
   "outputs": [
    {
     "name": "stdout",
     "output_type": "stream",
     "text": [
      "00000032_000.png 00006296_006.png\n",
      "00006341_000.png 00007498_001.png\n",
      "00016760_000.png 00004526_008.png\n"
     ]
    }
   ],
   "source": [
    "print(train[0], train[698])\n",
    "print(val[0], val[174])\n",
    "print(test[0], test[217])"
   ]
  },
  {
   "cell_type": "code",
   "execution_count": 18,
   "metadata": {},
   "outputs": [],
   "source": [
    "from shutil import copyfile"
   ]
  },
  {
   "cell_type": "code",
   "execution_count": 19,
   "metadata": {},
   "outputs": [
    {
     "name": "stdout",
     "output_type": "stream",
     "text": [
      "\n",
      "\n",
      "cardiomegaly\n",
      "1093\n",
      "699 175 219\n",
      "Total: 1093\n",
      "Train\n",
      "00004526_016.png 00014365_001.png\n",
      "Validation\n",
      "00030544_000.png 00027685_000.png\n",
      "Test\n",
      "00013249_050.png 00000211_002.png\n",
      "\n",
      "\n",
      "no_finding\n",
      "10000\n",
      "6400 1600 2000\n",
      "Total: 10000\n",
      "Train\n",
      "00002272_001.png 00002735_001.png\n",
      "Validation\n",
      "00004549_005.png 00000468_050.png\n",
      "Test\n",
      "00000242_002.png 00002371_013.png\n",
      "\n",
      "\n",
      "nodule\n",
      "2705\n",
      "1731 433 541\n",
      "Total: 2705\n",
      "Train\n",
      "00006360_000.png 00006639_000.png\n",
      "Validation\n",
      "00005799_000.png 00002364_001.png\n",
      "Test\n",
      "00016671_005.png 00010162_000.png\n",
      "\n",
      "\n",
      "effusion\n",
      "3955\n",
      "2531 633 791\n",
      "Total: 3955\n",
      "Train\n",
      "00009702_007.png 00019576_050.png\n",
      "Validation\n",
      "00005759_027.png 00013993_061.png\n",
      "Test\n",
      "00016732_032.png 00009365_017.png\n",
      "\n",
      "\n",
      "atelectasis\n",
      "4215\n",
      "2697 675 843\n",
      "Total: 4215\n",
      "Train\n",
      "00002260_000.png 00020900_000.png\n",
      "Validation\n",
      "00022870_018.png 00028231_003.png\n",
      "Test\n",
      "00002598_001.png 00027359_002.png\n",
      "\n",
      "\n",
      "pneumothorax\n",
      "2194\n",
      "1404 351 439\n",
      "Total: 2194\n",
      "Train\n",
      "00029039_014.png 00000643_005.png\n",
      "Validation\n",
      "00002371_015.png 00007576_015.png\n",
      "Test\n",
      "00002176_005.png 00026546_016.png\n",
      "\n",
      "\n",
      "mass\n",
      "2139\n",
      "1368 343 428\n",
      "Total: 2139\n",
      "Train\n",
      "00007076_025.png 00013501_002.png\n",
      "Validation\n",
      "00028070_000.png 00013670_065.png\n",
      "Test\n",
      "00000248_024.png 00013240_000.png\n",
      "\n",
      "\n",
      "consolidation\n",
      "1310\n",
      "838 210 262\n",
      "Total: 1310\n",
      "Train\n",
      "00003726_003.png 00012628_019.png\n",
      "Validation\n",
      "00004007_019.png 00019299_015.png\n",
      "Test\n",
      "00019395_009.png 00020010_001.png\n",
      "27611\n"
     ]
    }
   ],
   "source": [
    "counter = 0\n",
    "for label in labels:\n",
    "        if(label[2] in preferred):\n",
    "        if(label[2]=='no_finding'):\n",
    "            label[0]=label[0][:10000]\n",
    "            label[1]=label[1][:10000]\n",
    "\n",
    "        print('\\n')\n",
    "        print(label[2])\n",
    "        #print(label[1])\n",
    "        shuffle(label[1])\n",
    "        #print(label[1])\n",
    "        base_train = floor(len(label[0])*.80)\n",
    "        n_test = len(label[1])-base_train\n",
    "        n_train = floor(base_train*.80)\n",
    "        n_val = base_train - n_train\n",
    "\n",
    "        print(len(label[0]))\n",
    "        counter+=len(label[0])\n",
    "\n",
    "        train = label[1][:n_train]\n",
    "        val = label[1][n_train:n_train + n_val]\n",
    "        test = label[1][n_train + n_val:]\n",
    "        print(len(train), len(val), len(test))\n",
    "        print('Total: {}'.format(len(train)+len(val)+len(test)))\n",
    "        print('Train')\n",
    "        print(train[0], train[len(train)-1])\n",
    "        print('Validation')\n",
    "        print(val[0], val[len(val)-1])\n",
    "        print('Test')\n",
    "        print(test[0], test[len(val)-1])\n",
    "    \n",
    "print(counter)\n",
    "    \n",
    "\n",
    "#     for img in train:\n",
    "#         base = '/home/jf/Documents/estudio/xrays/split_in_folders/299/' + label[2] + '/'\n",
    "#         target = '/home/jf/Documents/estudio/xrays/split_in_folders/299_split/' + label[2] + '/train/'\n",
    "#         base = base + img\n",
    "#         target = target + img\n",
    "#         print(base, target)\n",
    "#         copyfile(base, target)\n",
    "\n",
    "#     for img in val:\n",
    "#         base = '/home/jf/Documents/estudio/xrays/split_in_folders/299/' + label[2] + '/'\n",
    "#         target = '/home/jf/Documents/estudio/xrays/split_in_folders/299_split/' + label[2] + '/val/'\n",
    "#         base = base + img\n",
    "#         target = target + img\n",
    "#         print(base, target)\n",
    "#         copyfile(base, target)\n",
    "\n",
    "#     for img in test:\n",
    "#         base = '/home/jf/Documents/estudio/xrays/split_in_folders/299/' + label[2] + '/'\n",
    "#         target = '/home/jf/Documents/estudio/xrays/split_in_folders/299_split/' + label[2] + '/test/'\n",
    "#         base = base + img\n",
    "#         target = target + img\n",
    "#         print(base, target)\n",
    "#         copyfile(base, target)"
   ]
  },
  {
   "cell_type": "code",
   "execution_count": null,
   "metadata": {},
   "outputs": [],
   "source": []
  },
  {
   "cell_type": "code",
   "execution_count": null,
   "metadata": {},
   "outputs": [],
   "source": []
  }
 ],
 "metadata": {
  "kernelspec": {
   "display_name": "Python 3",
   "language": "python",
   "name": "python3"
  },
  "language_info": {
   "codemirror_mode": {
    "name": "ipython",
    "version": 3
   },
   "file_extension": ".py",
   "mimetype": "text/x-python",
   "name": "python",
   "nbconvert_exporter": "python",
   "pygments_lexer": "ipython3",
   "version": "3.6.5"
  }
 },
 "nbformat": 4,
 "nbformat_minor": 2
}
