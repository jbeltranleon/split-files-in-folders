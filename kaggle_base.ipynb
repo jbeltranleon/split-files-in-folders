{
  "cells": [
    {
      "metadata": {
        "_uuid": "8f2839f25d086af736a60e9eeb907d3b93b6e0e5",
        "_cell_guid": "b1076dfc-b9ad-4769-8c92-a6c4dae69d19",
        "trusted": true
      },
      "cell_type": "code",
      "source": "print(\"inicio\")\nfrom keras.models import Sequential\nfrom keras.layers import Activation, Dense\nfrom keras.optimizers import Adam\nfrom keras.preprocessing.image import ImageDataGenerator\nfrom keras.applications.xception import Xception, preprocess_input\nfrom keras.models import load_model\nimport keras.callbacks as kcall\nimport numpy as np\nimport matplotlib.pyplot as plt\n%pylab inline\n\n\n# Input data files are available in the \"../input/\" directory.\n# For example, running this (by clicking run or pressing Shift+Enter) will list the files in the input directory\n\nimport os\nprint(os.listdir(\"../input\"))",
      "execution_count": null,
      "outputs": []
    },
    {
      "metadata": {
        "_cell_guid": "79c7e3d0-c299-4dcb-8224-4455121ee9b0",
        "_uuid": "d629ff2d2480ee46fbb7e2d37f6b5fab8052498a",
        "trusted": true
      },
      "cell_type": "code",
      "source": "train_ATELECTASIS = !find ../input/xrays-chest-299px/input_299/299_tvt/train/atelectasis/ -type f  -exec file {} \\+ | grep -c -i 'image'\ntrain_CARDIOMEGALY = !find ../input/xrays-chest-299px/input_299/299_tvt/train/cardiomegaly/ -type f  -exec file {} \\+ | grep -c -i 'image'\ntrain_HERNIA = !find ../input/xrays-chest-299px/input_299/299_tvt/train/hernia/ -type f  -exec file {} \\+ | grep -c -i 'image'\ntrain_INFILTRATION = !find ../input/xrays-chest-299px/input_299/299_tvt/train/infiltration/ -type f  -exec file {} \\+ | grep -c -i 'image'\ntrain_NODULE = !find ../input/xrays-chest-299px/input_299/299_tvt/train/nodule/ -type f  -exec file {} \\+ | grep -c -i 'image'\ntrain_EMPHYSEMA = !find ../input/xrays-chest-299px/input_299/299_tvt/train/emphysema/ -type f  -exec file {} \\+ | grep -c -i 'image'\ntrain_EFFUSION = !find ../input/xrays-chest-299px/input_299/299_tvt/train/effusion/ -type f  -exec file {} \\+ | grep -c -i 'image'\ntrain_PLEURAL_THICKENING = !find ../input/xrays-chest-299px/input_299/299_tvt/train/pleural_thickening/ -type f  -exec file {} \\+ | grep -c -i 'image'\ntrain_PNEUMOTHORAX = !find ../input/xrays-chest-299px/input_299/299_tvt/train/pneumothorax/ -type f  -exec file {} \\+ | grep -c -i 'image'\ntrain_MASS = !find ../input/xrays-chest-299px/input_299/299_tvt/train/mass/ -type f  -exec file {} \\+ | grep -c -i 'image'\ntrain_FIBROSIS = !find ../input/xrays-chest-299px/input_299/299_tvt/train/fibrosis/ -type f  -exec file {} \\+ | grep -c -i 'image'\ntrain_CONSOLIDATION = !find ../input/xrays-chest-299px/input_299/299_tvt/train/consolidation/ -type f  -exec file {} \\+ | grep -c -i 'image'\ntrain_EDEMA = !find ../input/xrays-chest-299px/input_299/299_tvt/train/edema/ -type f  -exec file {} \\+ | grep -c -i 'image'\ntrain_PNEUMONIA = !find ../input/xrays-chest-299px/input_299/299_tvt/train/pneumonia/ -type f  -exec file {} \\+ | grep -c -i 'image'\ntrain_NO_FINDING = !find ../input/xrays-chest-299px/input_299/299_tvt/train/no_finding/ -type f  -exec file {} \\+ | grep -c -i 'image'\n\nval_ATELECTASIS = !find ../input/xrays-chest-299px/input_299/299_tvt/val/atelectasis/ -type f  -exec file {} \\+ | grep -c -i 'image'\nval_CARDIOMEGALY = !find ../input/xrays-chest-299px/input_299/299_tvt/val/cardiomegaly/ -type f  -exec file {} \\+ | grep -c -i 'image'\nval_HERNIA = !find ../input/xrays-chest-299px/input_299/299_tvt/val/hernia/ -type f  -exec file {} \\+ | grep -c -i 'image'\nval_INFILTRATION = !find ../input/xrays-chest-299px/input_299/299_tvt/val/infiltration/ -type f  -exec file {} \\+ | grep -c -i 'image'\nval_NODULE = !find ../input/xrays-chest-299px/input_299/299_tvt/val/nodule/ -type f  -exec file {} \\+ | grep -c -i 'image'\nval_EMPHYSEMA = !find ../input/xrays-chest-299px/input_299/299_tvt/val/emphysema/ -type f  -exec file {} \\+ | grep -c -i 'image'\nval_EFFUSION = !find ../input/xrays-chest-299px/input_299/299_tvt/val/effusion/ -type f  -exec file {} \\+ | grep -c -i 'image'\nval_PLEURAL_THICKENING = !find ../input/xrays-chest-299px/input_299/299_tvt/val/pleural_thickening/ -type f  -exec file {} \\+ | grep -c -i 'image'\nval_PNEUMOTHORAX = !find ../input/xrays-chest-299px/input_299/299_tvt/val/pneumothorax/ -type f  -exec file {} \\+ | grep -c -i 'image'\nval_MASS = !find ../input/xrays-chest-299px/input_299/299_tvt/val/mass/ -type f  -exec file {} \\+ | grep -c -i 'image'\nval_FIBROSIS = !find ../input/xrays-chest-299px/input_299/299_tvt/val/fibrosis/ -type f  -exec file {} \\+ | grep -c -i 'image'\nval_CONSOLIDATION = !find ../input/xrays-chest-299px/input_299/299_tvt/val/consolidation/ -type f  -exec file {} \\+ | grep -c -i 'image'\nval_EDEMA = !find ../input/xrays-chest-299px/input_299/299_tvt/val/edema/ -type f  -exec file {} \\+ | grep -c -i 'image'\nval_PNEUMONIA = !find ../input/xrays-chest-299px/input_299/299_tvt/val/pneumonia/ -type f  -exec file {} \\+ | grep -c -i 'image'\nval_NO_FINDING = !find ../input/xrays-chest-299px/input_299/299_tvt/val/no_finding/ -type f  -exec file {} \\+ | grep -c -i 'image'\n\ntest_ATELECTASIS = !find ../input/xrays-chest-299px/input_299/299_tvt/test/atelectasis/ -type f  -exec file {} \\+ | grep -c -i 'image'\ntest_CARDIOMEGALY = !find ../input/xrays-chest-299px/input_299/299_tvt/test/cardiomegaly/ -type f  -exec file {} \\+ | grep -c -i 'image'\ntest_HERNIA = !find ../input/xrays-chest-299px/input_299/299_tvt/test/hernia/ -type f  -exec file {} \\+ | grep -c -i 'image'\ntest_INFILTRATION = !find ../input/xrays-chest-299px/input_299/299_tvt/test/infiltration/ -type f  -exec file {} \\+ | grep -c -i 'image'\ntest_NODULE = !find ../input/xrays-chest-299px/input_299/299_tvt/test/nodule/ -type f  -exec file {} \\+ | grep -c -i 'image'\ntest_EMPHYSEMA = !find ../input/xrays-chest-299px/input_299/299_tvt/test/emphysema/ -type f  -exec file {} \\+ | grep -c -i 'image'\ntest_EFFUSION = !find ../input/xrays-chest-299px/input_299/299_tvt/test/effusion/ -type f  -exec file {} \\+ | grep -c -i 'image'\ntest_PLEURAL_THICKENING = !find ../input/xrays-chest-299px/input_299/299_tvt/test/pleural_thickening/ -type f  -exec file {} \\+ | grep -c -i 'image'\ntest_PNEUMOTHORAX = !find ../input/xrays-chest-299px/input_299/299_tvt/test/pneumothorax/ -type f  -exec file {} \\+ | grep -c -i 'image'\ntest_MASS = !find ../input/xrays-chest-299px/input_299/299_tvt/test/mass/ -type f  -exec file {} \\+ | grep -c -i 'image'\ntest_FIBROSIS = !find ../input/xrays-chest-299px/input_299/299_tvt/test/fibrosis/ -type f  -exec file {} \\+ | grep -c -i 'image'\ntest_CONSOLIDATION = !find ../input/xrays-chest-299px/input_299/299_tvt/test/consolidation/ -type f  -exec file {} \\+ | grep -c -i 'image'\ntest_EDEMA = !find ../input/xrays-chest-299px/input_299/299_tvt/test/edema/ -type f  -exec file {} \\+ | grep -c -i 'image'\ntest_PNEUMONIA = !find ../input/xrays-chest-299px/input_299/299_tvt/test/pneumonia/ -type f  -exec file {} \\+ | grep -c -i 'image'\ntest_NO_FINDING = !find ../input/xrays-chest-299px/input_299/299_tvt/test/no_finding/ -type f  -exec file {} \\+ | grep -c -i 'image'\n",
      "execution_count": null,
      "outputs": []
    },
    {
      "metadata": {
        "trusted": true,
        "_uuid": "3a8ef8ed2b43240c45447f4796afaa35ceccab4c"
      },
      "cell_type": "code",
      "source": "train_data = np.array([\n    int(train_ATELECTASIS[0]),\n    int(train_CARDIOMEGALY[0]),\n    int(train_CONSOLIDATION[0]),\n    int(train_EDEMA[0]),\n    int(train_EFFUSION[0]),\n    int(train_EMPHYSEMA[0]),\n    int(train_FIBROSIS[0]),\n    int(train_HERNIA[0]),\n    int(train_INFILTRATION[0]),\n    int(train_MASS[0]),\n    int(train_NO_FINDING[0]),\n    int(train_NODULE[0]),\n    int(train_PLEURAL_THICKENING[0]),\n    int(train_PNEUMONIA[0]),\n    int(train_PNEUMOTHORAX[0]),\n])",
      "execution_count": null,
      "outputs": []
    },
    {
      "metadata": {
        "trusted": true,
        "_uuid": "ac712d643cde694db2cec981bcb8fbc6983be1e6"
      },
      "cell_type": "code",
      "source": "train_total = 0\nfor el in train_data:\n    train_total += el\nprint(train_total)",
      "execution_count": null,
      "outputs": []
    },
    {
      "metadata": {
        "trusted": true,
        "_uuid": "0898021deb7d6a3988bd7671731deeb492ebe9bd"
      },
      "cell_type": "code",
      "source": "val_data = np.array([\n    int(val_ATELECTASIS[0]),\n    int(val_CARDIOMEGALY[0]),\n    int(val_CONSOLIDATION[0]),\n    int(val_EDEMA[0]),\n    int(val_EFFUSION[0]),\n    int(val_EMPHYSEMA[0]),\n    int(val_FIBROSIS[0]),\n    int(val_HERNIA[0]),\n    int(val_INFILTRATION[0]),\n    int(val_MASS[0]),\n    int(val_NO_FINDING[0]),\n    int(val_NODULE[0]),\n    int(val_PLEURAL_THICKENING[0]),\n    int(val_PNEUMONIA[0]),\n    int(val_PNEUMOTHORAX[0]),\n])",
      "execution_count": null,
      "outputs": []
    },
    {
      "metadata": {
        "trusted": true,
        "_uuid": "1395ff15358278952e49ac1e7667332110f42b1d"
      },
      "cell_type": "code",
      "source": "test_data = np.array([\n    int(test_ATELECTASIS[0]),\n    int(test_CARDIOMEGALY[0]),\n    int(test_CONSOLIDATION[0]),\n    int(test_EDEMA[0]),\n    int(test_EFFUSION[0]),\n    int(test_EMPHYSEMA[0]),\n    int(test_FIBROSIS[0]),\n    int(test_HERNIA[0]),\n    int(test_INFILTRATION[0]),\n    int(test_MASS[0]),\n    int(test_NO_FINDING[0]),\n    int(test_NODULE[0]),\n    int(test_PLEURAL_THICKENING[0]),\n    int(test_PNEUMONIA[0]),\n    int(test_PNEUMOTHORAX[0]),\n])",
      "execution_count": null,
      "outputs": []
    },
    {
      "metadata": {
        "trusted": true,
        "_uuid": "b3ee922e58c2ba75e9bce1c82f5c8d1ab66fdfa3"
      },
      "cell_type": "code",
      "source": "print(train_data)\nprint(val_data)\nprint(test_data)",
      "execution_count": null,
      "outputs": []
    },
    {
      "metadata": {
        "trusted": true,
        "_uuid": "94fcb23d6188c583e86bb53bb278746840d11851"
      },
      "cell_type": "code",
      "source": "index = np.arange(15)\nbar_width = 0.25\nopacity = 0.7\n\nrects1 = plt.bar(index, train_data, bar_width,\n                alpha=opacity, color='b',\n                label='Train')\nrects2 = plt.bar(index + bar_width, val_data, bar_width,\n                alpha=opacity, color='r', tick_label = ('atelectasis', 'cardiomegaly', 'consolidation', 'edema', 'effusion', 'emphysema', 'fibrosis', 'hernia', 'infiltration', 'mass', 'mass', 'fibrosis', 'consolidation', 'edema', 'pneumonia',),\n                label='Val')\nrects3 = plt.bar(index + 2*bar_width, test_data, bar_width,\n                alpha=opacity, color='g', tick_label = ('cardiomegaly', 'no_finding', 'hernia', 'infiltration', 'nodule', 'emphysema', 'effusion', 'atelectasis', 'pleural_thickening', 'pneumothorax', 'mass', 'fibrosis', 'consolidation', 'edema', 'pneumonia',),\n                label='test')\n\n\nplt.xlabel('Class')\nplt.ylabel('Number of examples')\nplt.title('Total examples per set')\nplt.xticks(index + bar_width)\nplt.legend()\npylab.rcParams['figure.figsize'] = (10, 4)\n\nplt.show()",
      "execution_count": null,
      "outputs": []
    },
    {
      "metadata": {
        "trusted": true,
        "_uuid": "6e8facd9ad07d6fd34f192c475f0d1dea0106e6e"
      },
      "cell_type": "code",
      "source": "output_classes = 15\nlearning_rate = 0.0001\nimg_width, img_height,channel = 299, 299, 3\ntraining_examples = train_total \nbatch_size = 30 \nepochs = 1\nresume_model = False\ntraining_data_dir = '../input/xrays-chest-299px/input_299/299_tvt/train'\nval_data_dir = '../input/xrays-chest-299px/input_299/299_tvt/val'\ntest_data_dir = '../input/xrays-chest-299px/input_299/299_tvt/test'\ntrained_model_dir = '../input/xception/xception_weights_tf_dim_ordering_tf_kernels_notop.h5'",
      "execution_count": null,
      "outputs": []
    },
    {
      "metadata": {
        "trusted": true,
        "_uuid": "8df94a1998396419e3f7f71dc0d8b70a6996d3a0"
      },
      "cell_type": "code",
      "source": "if resume_model == False:\n  ## Model Defination\n  model = Sequential()\n  model.add(Xception(weights=trained_model_dir , include_top=False,pooling = 'avg'))\n  #model.add(Dense(units = 100 , activation = 'relu'))\n  model.add(Dense(units=output_classes, activation='softmax'))\n\n  model.layers[0].trainable = True\n\n  model.compile(loss='categorical_crossentropy',\n                optimizer=Adam(lr=learning_rate),\n                metrics=['accuracy'])\n\n  ## model.load_weights('xception_weights_tf_dim_ordering_tf_kernels_notop.h5', by_name=True)\n\n  ## Image generator function for training and validation\n  img_generator = ImageDataGenerator(preprocessing_function=preprocess_input)\n\n  train_img_generator = img_generator.flow_from_directory(\n        training_data_dir,\n        target_size = (img_width,img_height),\n        batch_size = batch_size,\n        class_mode = 'categorical')\n\n  val_img_generator = img_generator.flow_from_directory(\n                          val_data_dir,\n                          target_size = (img_width,img_height),\n                          class_mode = 'categorical')\n\n  for i, layer in enumerate(model.layers):\n     print('Layer: ',i+1,' Name: ', layer.name)",
      "execution_count": null,
      "outputs": []
    },
    {
      "metadata": {
        "trusted": true,
        "_uuid": "27bf75aeb43a5b583610c04e145075b6b24dbaf5"
      },
      "cell_type": "code",
      "source": "early_stop = kcall.EarlyStopping(monitor = 'acc', min_delta=0.0001)\ntensorboard =kcall.TensorBoard(log_dir='./tensorboard-logs',write_grads=1,batch_size = batch_size)\n\nclass LossHistory(kcall.Callback):\n    def on_train_begin(self, logs={}):\n        self.losses = []\n        self.acc = []\n\n    def on_batch_end(self, batch, logs={}):\n        self.losses.append(logs.get('loss'))\n        self.acc.append(logs.get('acc'))\n\nhistory = LossHistory()",
      "execution_count": null,
      "outputs": []
    },
    {
      "metadata": {
        "trusted": true,
        "_uuid": "cda94aac623622847234b61f21b59f5acbf81630"
      },
      "cell_type": "code",
      "source": "import tensorflow as tf\ndevice_name = tf.test.gpu_device_name()\nif device_name != '/device:GPU:0':\n  raise SystemError('GPU device not found')\nprint('Found GPU at: {}'.format(device_name))",
      "execution_count": null,
      "outputs": []
    },
    {
      "metadata": {
        "trusted": true,
        "_uuid": "8872f3518fe3dee6230bc9d68e924fcd63bdf01a"
      },
      "cell_type": "code",
      "source": "import tensorflow as tf\nimport timeit\n\n# See https://www.tensorflow.org/tutorials/using_gpu#allowing_gpu_memory_growth\nconfig = tf.ConfigProto()\nconfig.gpu_options.allow_growth = True",
      "execution_count": null,
      "outputs": []
    },
    {
      "metadata": {
        "trusted": true,
        "_uuid": "4efc52670e4ecfd64835e9a738d9c07659b94f5b"
      },
      "cell_type": "code",
      "source": "with tf.device('/gpu:0'):\n     if resume_model:\n         model = load_model('chest_xray.h5')\n     else: \n         model.fit_generator(train_img_generator,\n             steps_per_epoch = training_examples // batch_size,\n             epochs = epochs,\n             validation_data = val_img_generator,\n             validation_steps = 1,\n             callbacks=[early_stop,history])\n\n## saving model\n#model.save('chest_xray.h5')",
      "execution_count": null,
      "outputs": []
    },
    {
      "metadata": {
        "trusted": true,
        "_uuid": "33c5822c56f860cc1704c1a9979a7b188dbd01d1"
      },
      "cell_type": "code",
      "source": "print(\"Happy\")",
      "execution_count": null,
      "outputs": []
    },
    {
      "metadata": {
        "trusted": true,
        "_uuid": "09f62a7d264e77bd132d6d076c345e5549e4aced"
      },
      "cell_type": "code",
      "source": "",
      "execution_count": null,
      "outputs": []
    }
  ],
  "metadata": {
    "kernelspec": {
      "display_name": "Python 3",
      "language": "python",
      "name": "python3"
    },
    "language_info": {
      "name": "python",
      "version": "3.6.6",
      "mimetype": "text/x-python",
      "codemirror_mode": {
        "name": "ipython",
        "version": 3
      },
      "pygments_lexer": "ipython3",
      "nbconvert_exporter": "python",
      "file_extension": ".py"
    }
  },
  "nbformat": 4,
  "nbformat_minor": 1
}